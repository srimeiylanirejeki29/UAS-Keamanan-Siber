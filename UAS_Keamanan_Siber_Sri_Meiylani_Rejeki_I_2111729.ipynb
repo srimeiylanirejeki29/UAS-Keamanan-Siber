{
  "nbformat": 4,
  "nbformat_minor": 0,
  "metadata": {
    "colab": {
      "provenance": []
    },
    "kernelspec": {
      "name": "python3",
      "display_name": "Python 3"
    },
    "language_info": {
      "name": "python"
    }
  },
  "cells": [
    {
      "cell_type": "markdown",
      "source": [
        "## No.1"
      ],
      "metadata": {
        "id": "TcfBbWLxk1kP"
      }
    },
    {
      "cell_type": "markdown",
      "source": [
        "Reverse proxy dan forward proxy merupaka suatu konsep proxy dengan perbedaan yang paling utama pada suatu arah aliran data dan lokasi tempat proxy berada. Forward proxy bertempat di antara klien dan server eksternal yang menyembunyikan identitas klien dan memberikan kontrol akses. Tapi pada reverse proxy berada di antara klien dan server internal,untuk melindungi server internal, menyediakan keamanan, dan melakukan fungsi seperti load balancing. Forward proxy umumnya digunakan di lingkungan korporat, sedangkan reverse proxy digunakan untuk menyediakan lapisan keamanan dan fungsionalitas tambahan di server internal. Keduanya dapat digunakan bersama-sama untuk konfigurasi jaringan yang lebih kompleks."
      ],
      "metadata": {
        "id": "VGqwSRpDlAZQ"
      }
    },
    {
      "cell_type": "markdown",
      "source": [
        "## No.2"
      ],
      "metadata": {
        "id": "7dZarLExlxZL"
      }
    },
    {
      "cell_type": "markdown",
      "source": [
        "Metasploit merupakan sebuah framework yang digunakan oleh penyerang untuk melakukan serangan terhadap sistem komputer. Dengan Metasploit, penyerang dapat melakukan identifikasi dan pengujian kelemahan sistem komputer, serta mengambil alih kendali sistem tersebut. Framework ini memberikan alat yang komprehensif untuk eksploitasi keamanan dan pengujian penetrasi, yang dapat digunakan untuk mengevaluasi tingkat keamanan suatu sistem."
      ],
      "metadata": {
        "id": "96qbngR1lztZ"
      }
    },
    {
      "cell_type": "markdown",
      "source": [
        "## No.3"
      ],
      "metadata": {
        "id": "jB9fAHL-m4TS"
      }
    },
    {
      "cell_type": "markdown",
      "source": [
        "Firewall, IDS (Sistem Deteksi Intrusi), dan IPS (Sistem Pencegahan Intrusi) adalah tiga elemen keamanan jaringan yang memiliki fungsi yang unik. Firewall berfungsi untuk menentukan apakah suatu paket data dapat melewati berdasarkan aturan keamanan, sementara IDS mendeteksi kegiatan yang mencurigakan dalam jaringan. Sebaliknya, IPS tidak hanya mendeteksi serangan, tetapi juga secara aktif mengambil tindakan untuk mencegah serangan tersebut dengan memblokir lalu lintas yang mencurigakan. <br>\n",
        "Untuk dapat memahami perbedaan antara ketiga hal tersebut, kita bisa mengibaratkan firewall sebagai penjaga pintu yang menentukan izin masuk atau keluar, IDS sebagai mata yang memantau aktivitas mencurigakan, dan IPS sebagai penjaga yang tidak hanya mengamati tetapi juga bertindak langsung untuk mencegah masalah."
      ],
      "metadata": {
        "id": "0fjv7f-Lm5mn"
      }
    },
    {
      "cell_type": "markdown",
      "source": [
        "## No.4"
      ],
      "metadata": {
        "id": "2WLPMpkTnfoE"
      }
    },
    {
      "cell_type": "markdown",
      "source": [
        "General Data Protection Regulation (GDPR) atau Peraturan Perlindungan Data Umum adalah peraturan Uni Eropa dan setelah Brexit, serta tidak lagi berlaku untuk Inggris Raya yang mulai berlaku sejak 25 Mei 2018. Tujuannya adalah melindungi privasi dan hak individu terkait data pribadi dengan memberikan kendali lebih kepada individu, meningkatkan transparansi pengelolaan data, dan meningkatkan tanggung jawab organisasi. <br>\n",
        "General Data Protection Regulation (GDPR) merupakan suatu aturan yang mengatur mengenai pelindungan data pribadi yang mengikat di negara-negara Uni Eropa. Hal ini merupakan salah satu aturan acuan dari Undang-Undang Nomor 27 Tahun 2022 tentang Pelindungan Data Pribadi (UU PDP)."
      ],
      "metadata": {
        "id": "yXFgjZLPnhHT"
      }
    },
    {
      "cell_type": "markdown",
      "source": [
        "## No.5"
      ],
      "metadata": {
        "id": "qr7jgPLHpwZA"
      }
    },
    {
      "cell_type": "markdown",
      "source": [
        "OWASP (Open Web Application Security Project) menjadi acuan utama dalam keamanan perangkat lunak karena hal merupakan suatu komunitas terbuka yang sangat mudah di pahami dan kolaboratif yang membawa bersama para ahli keamanan dan pengembang untuk berbagi pengetahuan dan praktik terbaik. Serta dapat memudahkan pengguna untuk mengembangkan perangkat lunak tersebut untuk mengidentifikasi keamanan yang mungkin suatu saat akan muncul dan namun tidak dapat memberikan hal tersebut itu saja tetapi adanya pendorongan perubahan budaya yang mengedepankan keamanan dalam setiap tahap pengembangan perangkat lunak."
      ],
      "metadata": {
        "id": "djQCkmK-pyxk"
      }
    }
  ]
}